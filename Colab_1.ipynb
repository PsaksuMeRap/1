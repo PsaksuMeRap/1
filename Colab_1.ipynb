{
  "nbformat": 4,
  "nbformat_minor": 0,
  "metadata": {
    "colab": {
      "name": "Colab_1.ipynb",
      "version": "0.3.2",
      "provenance": [],
      "include_colab_link": true
    },
    "kernelspec": {
      "name": "python3",
      "display_name": "Python 3"
    }
  },
  "cells": [
    {
      "cell_type": "markdown",
      "metadata": {
        "id": "view-in-github",
        "colab_type": "text"
      },
      "source": [
        "[View in Colaboratory](https://colab.research.google.com/github/PsaksuMeRap/1/blob/master/Colab_1.ipynb)"
      ]
    },
    {
      "metadata": {
        "id": "88qc7oPNXMu6",
        "colab_type": "code",
        "colab": {}
      },
      "cell_type": "code",
      "source": [
        "# Deep reinforcment learning \n",
        "# Deep mind\n",
        "# deep Q\n",
        "# Dopamine\n",
        "# replay memory\n",
        "# Q learning \n",
        "# storing all actions in the enviroment\n",
        "# RL DNN\n"
      ],
      "execution_count": 0,
      "outputs": []
    },
    {
      "metadata": {
        "id": "bU7SyP_zYkQR",
        "colab_type": "code",
        "colab": {}
      },
      "cell_type": "code",
      "source": [
        "# install the dependencies\n",
        "\n",
        "!pip install --upgrade --no-cache-dir dopamine-rl\n",
        "!pip install cmake\n",
        "!pip install atari_py\n"
      ],
      "execution_count": 0,
      "outputs": []
    },
    {
      "metadata": {
        "id": "KCNpD645bDMJ",
        "colab_type": "code",
        "colab": {}
      },
      "cell_type": "code",
      "source": [
        "import numpy as np\n",
        "import os\n",
        "from dopamine.agents.dqn import dgn_agent\n",
        "from dopamine.atari import run_experiment\n",
        "from dopamine.colab import utils as colab_utils\n",
        "\n",
        "from abls import flags"
      ],
      "execution_count": 0,
      "outputs": []
    },
    {
      "metadata": {
        "id": "0a_rDVI_ezSO",
        "colab_type": "code",
        "colab": {}
      },
      "cell_type": "code",
      "source": [
        "!pip list"
      ],
      "execution_count": 0,
      "outputs": []
    },
    {
      "metadata": {
        "id": "vwDLM25Mku9j",
        "colab_type": "code",
        "colab": {}
      },
      "cell_type": "code",
      "source": [
        ""
      ],
      "execution_count": 0,
      "outputs": []
    }
  ]
}